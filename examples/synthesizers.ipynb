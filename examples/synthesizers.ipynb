{
 "cells": [
  {
   "cell_type": "code",
   "execution_count": null,
   "id": "e6812069-3c67-44e7-85d9-edebc9fc0b6b",
   "metadata": {
    "scrolled": true
   },
   "outputs": [],
   "source": [
    "import sys\n",
    "!{sys.executable} -m pip install --upgrade ..\n",
    "from synthesizers import Load, pipeline"
   ]
  },
  {
   "cell_type": "code",
   "execution_count": null,
   "id": "3c6f4773-f3fa-4374-aab8-4d7120a20b01",
   "metadata": {},
   "outputs": [],
   "source": [
    "Load(\"mstz/breast\").Synthesize(split_size=0.8, gen_count=100, eval_target_col=\"is_cancer\", save_name=\"breast.xlsx\", save_key=\"synth\")"
   ]
  },
  {
   "cell_type": "code",
   "execution_count": null,
   "id": "791d35cb-7112-4e7c-a435-ae68d5c10622",
   "metadata": {},
   "outputs": [],
   "source": [
    "from synthesizers import Load\n",
    "state = Load(\"breast.xlsx\").Split(size=0.2).Train(plugin=\"tvae\").Generate(count=[100, 1000, 10000, 100000]).Save(name=f\"breast.csv\", key=\"synth\")"
   ]
  },
  {
   "cell_type": "code",
   "execution_count": null,
   "id": "65e69aed-1806-4410-b83d-e0da92ecb5f4",
   "metadata": {},
   "outputs": [],
   "source": [
    "from synthesizers import Load\n",
    "state = Load(\"breast.xlsx\").Split(size=0.2).Train(plugin=\"tvae\")\n",
    "for count in (100, 1000, 10000, 100000):\n",
    "    state.Generate(count=count).Save(name=f\"breast-{count}.csv\", key=\"synth\")"
   ]
  },
  {
   "cell_type": "code",
   "execution_count": null,
   "id": "4a5b26bf-57bc-4b11-89bd-db6a00c1dbb2",
   "metadata": {},
   "outputs": [],
   "source": [
    "pipeline(\"synthesize\", eval_target_col=\"is_cancer\")(\"breast.xlsx\")"
   ]
  },
  {
   "cell_type": "code",
   "execution_count": null,
   "id": "241d5e99-4322-4e79-8fe2-23a77eb0cb7e",
   "metadata": {},
   "outputs": [],
   "source": [
    "pipeline(\"synthesize\", train_plugin=\"bayesian_network\", eval_target_col=\"is_cancer\")(\"breast.xlsx\")"
   ]
  },
  {
   "cell_type": "code",
   "execution_count": null,
   "id": "1c2c4b68-375e-4eea-a5e8-983f10dbcecc",
   "metadata": {},
   "outputs": [],
   "source": [
    "pipeline(\"evaluate\", target_col=\"is_cancer\")(pipeline(\"generate\", count=10000)(pipeline(\"train\", plugin=\"bayesian_network\")(\"mstz/breast\")))"
   ]
  },
  {
   "cell_type": "code",
   "execution_count": null,
   "id": "fb148e77-fa04-4b0e-a15d-ed92759eaacf",
   "metadata": {},
   "outputs": [],
   "source": [
    "# from README.md\n",
    "from synthesizers import Load\n",
    "Load(\"mstz/breast\").Synthesize(split_size=0.8, gen_count=10000, eval_target_col=\"is_cancer\", save_name=\"breast.xlsx\", save_key=\"synth\")\n",
    "Load(\"mstz/breast\").Split(size=0.8).Train().Generate(count=10000).Evaluate(target_col=\"is_cancer\").Save(name=\"breast.xlsx\", key=\"synth\")\n",
    "state = Load(\"mstz/breast\").Split(size=0.8).Train()\n",
    "for count in (100, 1000, 10000, 100000):\n",
    "    state.Generate(count=count).Save(name=f\"breast-{count}.csv\", key=\"synth\")\n",
    "state = Load(\"mstz/breast\").Split(size=0.8).Train().Save(\"breast_state\")\n",
    "Load(\"breast_state\").Generate(count=10000).Save(name=\"breast.csv\", key=\"synth\")\n",
    "Load(\"breast_state\").Generate(count=[1000,100000]).Save(name=\"breast_1000.csv\", index=0, key=\"synth\").Save(name=\"breast_100000.csv\", index=1, key=\"synth\")\n",
    "from synthesizers import pipeline\n",
    "pipeline(\"synthesize\", split_size=0.8, gen_count=10000, eval_target_col=\"is_cancer\", save_name=\"breast.json\", save_key=\"synth\")(\"mstz/breast\")\n",
    "state = pipeline(\"split\", size=0.8)(\"mstz/breast\")\n",
    "state = pipeline(\"train\")(state)\n",
    "state = pipeline(\"generate\", count=10000)(state)\n",
    "state = pipeline(\"evaluate\", target_col=\"is_cancer\")\n",
    "state = pipeline(\"identity\", save_name=\"breast.json\", save_key=\"synth\")\n",
    "s1 = Load(\"mstz/breast\").Split()\n",
    "s2 = Load(\"julien-c/titanic-survival\").Split()\n",
    "train = pipeline(\"train\", plugin=\"ctgan\")\n",
    "train(s1).Generate(count=1000).Save(name=\"breast.jsonl\", key=\"synth\")\n",
    "train(s2).Generate(count=1000).Save(name=\"titanic.jsonl\", key=\"synth\")\n"
   ]
  }
 ],
 "metadata": {
  "kernelspec": {
   "display_name": "Python 3 (ipykernel)",
   "language": "python",
   "name": "python3"
  },
  "language_info": {
   "codemirror_mode": {
    "name": "ipython",
    "version": 3
   },
   "file_extension": ".py",
   "mimetype": "text/x-python",
   "name": "python",
   "nbconvert_exporter": "python",
   "pygments_lexer": "ipython3",
   "version": "3.10.12"
  }
 },
 "nbformat": 4,
 "nbformat_minor": 5
}
