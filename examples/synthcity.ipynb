{
 "cells": [
  {
   "cell_type": "code",
   "execution_count": null,
   "id": "5f2bb0bd-197c-47d9-8b20-2fdc990572bf",
   "metadata": {},
   "outputs": [],
   "source": [
    "import sys\n",
    "!{sys.executable} -m pip install datasets pandas scikit-learn synthcity"
   ]
  },
  {
   "cell_type": "code",
   "execution_count": null,
   "id": "0d4c7de1-f889-461c-95dc-d59f9fcd6380",
   "metadata": {},
   "outputs": [],
   "source": [
    "from sklearn.datasets import load_diabetes\n",
    "X, y = load_diabetes(return_X_y=True, as_frame=True)\n",
    "X[\"target\"] = y"
   ]
  },
  {
   "cell_type": "code",
   "execution_count": null,
   "id": "34c1eaab-215a-4c5e-8e07-cafa07416446",
   "metadata": {},
   "outputs": [],
   "source": [
    "from synthcity.plugins.core.dataloader import GenericDataLoader\n",
    "loader = GenericDataLoader(\n",
    "    X,\n",
    "    target_column=\"target\",\n",
    "    sensitive_columns=[\"sex\"],\n",
    ")"
   ]
  },
  {
   "cell_type": "code",
   "execution_count": null,
   "id": "6b114ee4-1096-4d40-b602-0d272129ca5a",
   "metadata": {},
   "outputs": [],
   "source": [
    "from synthcity.plugins import Plugins\n",
    "Plugins().list()"
   ]
  },
  {
   "cell_type": "code",
   "execution_count": null,
   "id": "0ac91802-64f3-4204-a9f8-74727fdd2a42",
   "metadata": {},
   "outputs": [],
   "source": [
    "syn_model = Plugins().get(\"adsgan\")\n",
    "syn_model.fit(loader)"
   ]
  },
  {
   "cell_type": "code",
   "execution_count": null,
   "id": "b3326764-89ce-4722-845e-cbbe475b41de",
   "metadata": {},
   "outputs": [],
   "source": [
    "df = syn_model.generate(count=10).dataframe()"
   ]
  },
  {
   "cell_type": "code",
   "execution_count": null,
   "id": "68050227-b49c-476e-959b-5ab7423d1bbe",
   "metadata": {},
   "outputs": [],
   "source": [
    "from datasets import Dataset\n",
    "ds = Dataset.from_pandas(df).remove_columns(['__index_level_0__'])"
   ]
  },
  {
   "cell_type": "code",
   "execution_count": null,
   "id": "4fa0f1c4-d7c3-4e47-a131-4ac1b8305ef3",
   "metadata": {},
   "outputs": [],
   "source": [
    "df, ds"
   ]
  },
  {
   "cell_type": "code",
   "execution_count": null,
   "id": "5edaf29e-b9ab-4c63-a627-e9624c4c4ff9",
   "metadata": {},
   "outputs": [],
   "source": [
    "from synthcity.utils.serialization import load, load_from_file, save, save_to_file\n",
    "buff = save(syn_model)\n",
    "type(buff)"
   ]
  },
  {
   "cell_type": "code",
   "execution_count": null,
   "id": "20e0170b-602b-4268-8359-7a4e9acd235d",
   "metadata": {},
   "outputs": [],
   "source": [
    "model = load(buff)\n",
    "model.generate(count=10).dataframe()"
   ]
  },
  {
   "cell_type": "code",
   "execution_count": null,
   "id": "b1486f00-7007-48a4-b508-ca85021dd995",
   "metadata": {},
   "outputs": [],
   "source": [
    "from datasets import load_dataset\n",
    "ds = load_dataset(\"mstz/breast\")"
   ]
  },
  {
   "cell_type": "code",
   "execution_count": null,
   "id": "325bdb5c-e351-450c-ae93-c487503a83d4",
   "metadata": {},
   "outputs": [],
   "source": [
    "from pandas import DataFrame\n",
    "df = DataFrame(ds['train'])\n",
    "df"
   ]
  },
  {
   "cell_type": "code",
   "execution_count": null,
   "id": "efceedd4-0f6e-4b66-b3ae-0b74aa15dcf5",
   "metadata": {},
   "outputs": [],
   "source": [
    "loader = GenericDataLoader(\n",
    "    df,\n",
    "    target_column=\"is_cancer\",\n",
    "    sensitive_columns=[],\n",
    ")\n",
    "breast_model = Plugins().get(\"adsgan\")\n",
    "breast_model.fit(loader)"
   ]
  },
  {
   "cell_type": "code",
   "execution_count": null,
   "id": "cfbc65dd-dcb2-4c40-b6d5-4cf84eea59c5",
   "metadata": {},
   "outputs": [],
   "source": [
    "breast_model.generate(count=10).dataframe()"
   ]
  }
 ],
 "metadata": {
  "kernelspec": {
   "display_name": "Python 3 (ipykernel)",
   "language": "python",
   "name": "python3"
  },
  "language_info": {
   "codemirror_mode": {
    "name": "ipython",
    "version": 3
   },
   "file_extension": ".py",
   "mimetype": "text/x-python",
   "name": "python",
   "nbconvert_exporter": "python",
   "pygments_lexer": "ipython3",
   "version": "3.10.12"
  }
 },
 "nbformat": 4,
 "nbformat_minor": 5
}
