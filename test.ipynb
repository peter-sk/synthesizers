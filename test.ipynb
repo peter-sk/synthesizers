{
 "cells": [
  {
   "cell_type": "code",
   "execution_count": null,
   "id": "e6812069-3c67-44e7-85d9-edebc9fc0b6b",
   "metadata": {
    "scrolled": true
   },
   "outputs": [],
   "source": [
    "import sys\n",
    "!{sys.executable} -m pip install --upgrade .\n",
    "from synthesizers import pipeline"
   ]
  },
  {
   "cell_type": "code",
   "execution_count": null,
   "id": "4a5b26bf-57bc-4b11-89bd-db6a00c1dbb2",
   "metadata": {},
   "outputs": [],
   "source": [
    "pipeline(\"synthesize\", eval_target_col=\"is_cancer\")(\"breast.xlsx\")"
   ]
  },
  {
   "cell_type": "code",
   "execution_count": null,
   "id": "241d5e99-4322-4e79-8fe2-23a77eb0cb7e",
   "metadata": {},
   "outputs": [],
   "source": [
    "pipeline(\"synthesize\", train_plugin=\"bayesian_network\", eval_target_col=\"is_cancer\")(\"breast.xlsx\")"
   ]
  },
  {
   "cell_type": "code",
   "execution_count": null,
   "id": "1c2c4b68-375e-4eea-a5e8-983f10dbcecc",
   "metadata": {},
   "outputs": [],
   "source": []
  }
 ],
 "metadata": {
  "kernelspec": {
   "display_name": "Python 3 (ipykernel)",
   "language": "python",
   "name": "python3"
  },
  "language_info": {
   "codemirror_mode": {
    "name": "ipython",
    "version": 3
   },
   "file_extension": ".py",
   "mimetype": "text/x-python",
   "name": "python",
   "nbconvert_exporter": "python",
   "pygments_lexer": "ipython3",
   "version": "3.10.12"
  }
 },
 "nbformat": 4,
 "nbformat_minor": 5
}
