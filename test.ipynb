{
 "cells": [
  {
   "cell_type": "code",
   "execution_count": null,
   "id": "e6812069-3c67-44e7-85d9-edebc9fc0b6b",
   "metadata": {
    "scrolled": true
   },
   "outputs": [],
   "source": [
    "import sys\n",
    "!{sys.executable} -m pip install --upgrade .\n",
    "from synthesizers import Load, pipeline"
   ]
  },
  {
   "cell_type": "code",
   "execution_count": null,
   "id": "3c6f4773-f3fa-4374-aab8-4d7120a20b01",
   "metadata": {},
   "outputs": [],
   "source": [
    "Load(\"mstz/breast\").Synthesize(split_size=0.8, gen_count=1000, eval_target_col=\"is_cancer\", save_name=\"breast.xlsx\", save_key=\"synth\")"
   ]
  },
  {
   "cell_type": "code",
   "execution_count": null,
   "id": "65e69aed-1806-4410-b83d-e0da92ecb5f4",
   "metadata": {},
   "outputs": [],
   "source": [
    "from synthesizers import Load\n",
    "state = Load(\"breast.xlsx\").Split(size=0.2).Train(plugin=\"tvae\")\n",
    "for count in (100, 1000, 10000, 100000):\n",
    "    state.Generate(count=count).Save(name=f\"breast-{count}.csv\")"
   ]
  },
  {
   "cell_type": "code",
   "execution_count": null,
   "id": "4a5b26bf-57bc-4b11-89bd-db6a00c1dbb2",
   "metadata": {},
   "outputs": [],
   "source": [
    "pipeline(\"synthesize\", eval_target_col=\"is_cancer\")(\"breast.xlsx\")"
   ]
  },
  {
   "cell_type": "code",
   "execution_count": null,
   "id": "241d5e99-4322-4e79-8fe2-23a77eb0cb7e",
   "metadata": {},
   "outputs": [],
   "source": [
    "pipeline(\"synthesize\", train_plugin=\"bayesian_network\", eval_target_col=\"is_cancer\")(\"breast.xlsx\")"
   ]
  },
  {
   "cell_type": "code",
   "execution_count": null,
   "id": "1c2c4b68-375e-4eea-a5e8-983f10dbcecc",
   "metadata": {},
   "outputs": [],
   "source": [
    "pipeline(\"evaluate\", target_col=\"is_cancer\")(pipeline(\"generate\", count=10000)(pipeline(\"train\", plugin=\"bayesian_network\")(\"mstz/breast\")))"
   ]
  }
 ],
 "metadata": {
  "kernelspec": {
   "display_name": "Python 3 (ipykernel)",
   "language": "python",
   "name": "python3"
  },
  "language_info": {
   "codemirror_mode": {
    "name": "ipython",
    "version": 3
   },
   "file_extension": ".py",
   "mimetype": "text/x-python",
   "name": "python",
   "nbconvert_exporter": "python",
   "pygments_lexer": "ipython3",
   "version": "3.10.12"
  }
 },
 "nbformat": 4,
 "nbformat_minor": 5
}
